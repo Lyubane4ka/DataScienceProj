{
 "cells": [
  {
   "cell_type": "code",
   "id": "initial_id",
   "metadata": {
    "collapsed": true,
    "ExecuteTime": {
     "end_time": "2025-09-09T15:44:55.456197Z",
     "start_time": "2025-09-09T15:44:55.432109Z"
    }
   },
   "source": [
    "from Task19 import print_students_info\n",
    "%run -i Task19.py"
   ],
   "outputs": [],
   "execution_count": 1
  },
  {
   "metadata": {
    "ExecuteTime": {
     "end_time": "2025-09-09T15:49:08.599597Z",
     "start_time": "2025-09-09T15:49:08.579111Z"
    }
   },
   "cell_type": "code",
   "source": [
    "students_list = [\n",
    "            {'имя': 'Иван', 'возраст': 20, 'курс': 2},\n",
    "            {'имя': 'Мария', 'возраст': 19, 'курс': 1},\n",
    "            {'имя': 'Петр', 'возраст': 21, 'курс': 3},\n",
    "            {'имя': 'Анна', 'возраст': 22}  # Отсутствует курс\n",
    "        ]\n",
    "print_students_info(students_list)"
   ],
   "id": "2679d01c3c886801",
   "outputs": [
    {
     "name": "stdout",
     "output_type": "stream",
     "text": [
      "Имя: Иван, Возраст: 20, Курс: 2\n",
      "Имя: Мария, Возраст: 19, Курс: 1\n",
      "Имя: Петр, Возраст: 21, Курс: 3\n",
      "Имя: Анна, Возраст: 22, Курс: Не указан\n",
      "Данные отсутствуют\n"
     ]
    }
   ],
   "execution_count": 3
  }
 ],
 "metadata": {
  "kernelspec": {
   "display_name": "Python 3",
   "language": "python",
   "name": "python3"
  },
  "language_info": {
   "codemirror_mode": {
    "name": "ipython",
    "version": 2
   },
   "file_extension": ".py",
   "mimetype": "text/x-python",
   "name": "python",
   "nbconvert_exporter": "python",
   "pygments_lexer": "ipython2",
   "version": "2.7.6"
  }
 },
 "nbformat": 4,
 "nbformat_minor": 5
}
